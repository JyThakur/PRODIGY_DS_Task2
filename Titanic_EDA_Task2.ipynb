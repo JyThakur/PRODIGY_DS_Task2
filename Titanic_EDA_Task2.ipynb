{
 "cells": [
  {
   "cell_type": "markdown",
   "id": "1d2e6a11",
   "metadata": {
    "papermill": {
     "duration": 0.057301,
     "end_time": "2023-03-17T15:33:04.938959",
     "exception": false,
     "start_time": "2023-03-17T15:33:04.881658",
     "status": "completed"
    },
    "tags": []
   },
   "source": [
    "---\n",
    "## **Problem Statement**\n",
    "---\n",
    "### To understand the behavior and correlation of all the variables against Target varibale **Survived**. \n",
    "Note: EDA (Exploratory Data Analysis) steps will be performed to attempt a solution for given problem statement \n",
    "\n",
    "---\n",
    "\n",
    "### **EDA steps to be accomplished**\n",
    "\n",
    "---\n",
    "\n",
    "1. Reading and Understanding Data\n",
    "  - Checking for Incorrect Datatypes, Missing values and Null values\n",
    "  - Checking Outliers and Invalid values\n",
    "2. Data Visualization\n",
    "  - Comparing Survived against different variables\n",
    "    - Survived Vs Pclass\n",
    "    - Survived Vs Sex\n",
    "    - Survived Vs Age\n",
    "      - Survived Vs Age_Bins\n",
    "    - Survived Vs SibSp\n",
    "    - Survived Vs Parch\n",
    "    - Survived Vs Embarked\n",
    "3. Data Preparation\n",
    "  - Dropping Irrelevant variables\n",
    "  - Convert Categorical variable to Ordinal variables\n",
    "  - Visualize Correlation between all variables\n",
    "4. Using Machine Learning Algorithm\n",
    "  - Logistic Regression\n",
    "  - K Nearest Neighbors\n",
    "  - Decision Tree"
   ]
  },
  {
   "cell_type": "markdown",
   "id": "e95d2931",
   "metadata": {},
   "source": [
    "# Importing Libraries"
   ]
  },
  {
   "cell_type": "code",
   "execution_count": 36,
   "id": "9fdc360f",
   "metadata": {
    "execution": {
     "iopub.execute_input": "2023-03-17T15:33:05.164224Z",
     "iopub.status.busy": "2023-03-17T15:33:05.163199Z",
     "iopub.status.idle": "2023-03-17T15:33:06.460593Z",
     "shell.execute_reply": "2023-03-17T15:33:06.461333Z",
     "shell.execute_reply.started": "2023-03-17T15:17:15.946364Z"
    },
    "papermill": {
     "duration": 1.351826,
     "end_time": "2023-03-17T15:33:06.461613",
     "exception": false,
     "start_time": "2023-03-17T15:33:05.109787",
     "status": "completed"
    },
    "tags": []
   },
   "outputs": [],
   "source": [
    "# command to ignore warnings during filtering\n",
    "import warnings\n",
    "warnings.filterwarnings('ignore')\n",
    "\n",
    "# importing libraries\n",
    "import numpy as np\n",
    "import pandas as pd\n",
    "\n",
    "# data visualization library\n",
    "import matplotlib.pyplot as plt\n",
    "import seaborn as sns\n",
    "\n",
    "# scikit-learn libraries\n",
    "from sklearn.preprocessing import LabelEncoder\n",
    "\n",
    "# commands to display all rows and columns\n",
    "pd.set_option('display.max_columns', None)\n",
    "pd.set_option('display.max_rows', None)"
   ]
  },
  {
   "cell_type": "markdown",
   "id": "62dc7e37",
   "metadata": {
    "papermill": {
     "duration": 0.049478,
     "end_time": "2023-03-17T15:33:06.561411",
     "exception": false,
     "start_time": "2023-03-17T15:33:06.511933",
     "status": "completed"
    },
    "tags": []
   },
   "source": [
    "# Step 1: **Reading and Understanding Data**"
   ]
  },
  {
   "cell_type": "code",
   "execution_count": 18,
   "id": "4b2d4934",
   "metadata": {
    "execution": {
     "iopub.execute_input": "2023-03-17T15:33:06.665779Z",
     "iopub.status.busy": "2023-03-17T15:33:06.665077Z",
     "iopub.status.idle": "2023-03-17T15:33:06.710334Z",
     "shell.execute_reply": "2023-03-17T15:33:06.710825Z",
     "shell.execute_reply.started": "2023-03-17T15:17:17.369287Z"
    },
    "papermill": {
     "duration": 0.099752,
     "end_time": "2023-03-17T15:33:06.711013",
     "exception": false,
     "start_time": "2023-03-17T15:33:06.611261",
     "status": "completed"
    },
    "tags": []
   },
   "outputs": [
    {
     "data": {
      "text/html": [
       "<div>\n",
       "<style scoped>\n",
       "    .dataframe tbody tr th:only-of-type {\n",
       "        vertical-align: middle;\n",
       "    }\n",
       "\n",
       "    .dataframe tbody tr th {\n",
       "        vertical-align: top;\n",
       "    }\n",
       "\n",
       "    .dataframe thead th {\n",
       "        text-align: right;\n",
       "    }\n",
       "</style>\n",
       "<table border=\"1\" class=\"dataframe\">\n",
       "  <thead>\n",
       "    <tr style=\"text-align: right;\">\n",
       "      <th></th>\n",
       "      <th>PassengerId</th>\n",
       "      <th>Pclass</th>\n",
       "      <th>Name</th>\n",
       "      <th>Sex</th>\n",
       "      <th>Age</th>\n",
       "      <th>SibSp</th>\n",
       "      <th>Parch</th>\n",
       "      <th>Ticket</th>\n",
       "      <th>Fare</th>\n",
       "      <th>Cabin</th>\n",
       "      <th>Embarked</th>\n",
       "      <th>Survived</th>\n",
       "    </tr>\n",
       "  </thead>\n",
       "  <tbody>\n",
       "    <tr>\n",
       "      <th>0</th>\n",
       "      <td>1</td>\n",
       "      <td>3</td>\n",
       "      <td>Braund, Mr. Owen Harris</td>\n",
       "      <td>male</td>\n",
       "      <td>22.0</td>\n",
       "      <td>1</td>\n",
       "      <td>0</td>\n",
       "      <td>A/5 21171</td>\n",
       "      <td>7.2500</td>\n",
       "      <td>NaN</td>\n",
       "      <td>S</td>\n",
       "      <td>0</td>\n",
       "    </tr>\n",
       "    <tr>\n",
       "      <th>1</th>\n",
       "      <td>2</td>\n",
       "      <td>1</td>\n",
       "      <td>Cumings, Mrs. John Bradley (Florence Briggs Th...</td>\n",
       "      <td>female</td>\n",
       "      <td>38.0</td>\n",
       "      <td>1</td>\n",
       "      <td>0</td>\n",
       "      <td>PC 17599</td>\n",
       "      <td>71.2833</td>\n",
       "      <td>C85</td>\n",
       "      <td>C</td>\n",
       "      <td>1</td>\n",
       "    </tr>\n",
       "    <tr>\n",
       "      <th>2</th>\n",
       "      <td>3</td>\n",
       "      <td>3</td>\n",
       "      <td>Heikkinen, Miss. Laina</td>\n",
       "      <td>female</td>\n",
       "      <td>26.0</td>\n",
       "      <td>0</td>\n",
       "      <td>0</td>\n",
       "      <td>STON/O2. 3101282</td>\n",
       "      <td>7.9250</td>\n",
       "      <td>NaN</td>\n",
       "      <td>S</td>\n",
       "      <td>1</td>\n",
       "    </tr>\n",
       "    <tr>\n",
       "      <th>3</th>\n",
       "      <td>4</td>\n",
       "      <td>1</td>\n",
       "      <td>Futrelle, Mrs. Jacques Heath (Lily May Peel)</td>\n",
       "      <td>female</td>\n",
       "      <td>35.0</td>\n",
       "      <td>1</td>\n",
       "      <td>0</td>\n",
       "      <td>113803</td>\n",
       "      <td>53.1000</td>\n",
       "      <td>C123</td>\n",
       "      <td>S</td>\n",
       "      <td>1</td>\n",
       "    </tr>\n",
       "    <tr>\n",
       "      <th>4</th>\n",
       "      <td>5</td>\n",
       "      <td>3</td>\n",
       "      <td>Allen, Mr. William Henry</td>\n",
       "      <td>male</td>\n",
       "      <td>35.0</td>\n",
       "      <td>0</td>\n",
       "      <td>0</td>\n",
       "      <td>373450</td>\n",
       "      <td>8.0500</td>\n",
       "      <td>NaN</td>\n",
       "      <td>S</td>\n",
       "      <td>0</td>\n",
       "    </tr>\n",
       "  </tbody>\n",
       "</table>\n",
       "</div>"
      ],
      "text/plain": [
       "   PassengerId  Pclass                                               Name  \\\n",
       "0            1       3                            Braund, Mr. Owen Harris   \n",
       "1            2       1  Cumings, Mrs. John Bradley (Florence Briggs Th...   \n",
       "2            3       3                             Heikkinen, Miss. Laina   \n",
       "3            4       1       Futrelle, Mrs. Jacques Heath (Lily May Peel)   \n",
       "4            5       3                           Allen, Mr. William Henry   \n",
       "\n",
       "      Sex   Age  SibSp  Parch            Ticket     Fare Cabin Embarked  \\\n",
       "0    male  22.0      1      0         A/5 21171   7.2500   NaN        S   \n",
       "1  female  38.0      1      0          PC 17599  71.2833   C85        C   \n",
       "2  female  26.0      0      0  STON/O2. 3101282   7.9250   NaN        S   \n",
       "3  female  35.0      1      0            113803  53.1000  C123        S   \n",
       "4    male  35.0      0      0            373450   8.0500   NaN        S   \n",
       "\n",
       "   Survived  \n",
       "0         0  \n",
       "1         1  \n",
       "2         1  \n",
       "3         1  \n",
       "4         0  "
      ]
     },
     "execution_count": 18,
     "metadata": {},
     "output_type": "execute_result"
    }
   ],
   "source": [
    "# reading unlabelled data\n",
    "df = pd.read_csv(\"titanic_dataset.csv\")\n",
    "\n",
    "# moving target column to the last\n",
    "df = df.reindex(columns = [col for col in df.columns if col != 'Survived'] + ['Survived'])\n",
    "\n",
    "df.head()"
   ]
  },
  {
   "cell_type": "code",
   "execution_count": 19,
   "id": "e55c3acc",
   "metadata": {
    "execution": {
     "iopub.execute_input": "2023-03-17T15:33:06.813485Z",
     "iopub.status.busy": "2023-03-17T15:33:06.812478Z",
     "iopub.status.idle": "2023-03-17T15:33:06.817680Z",
     "shell.execute_reply": "2023-03-17T15:33:06.818270Z",
     "shell.execute_reply.started": "2023-03-17T15:17:17.426662Z"
    },
    "papermill": {
     "duration": 0.058341,
     "end_time": "2023-03-17T15:33:06.818457",
     "exception": false,
     "start_time": "2023-03-17T15:33:06.760116",
     "status": "completed"
    },
    "tags": []
   },
   "outputs": [
    {
     "data": {
      "text/plain": [
       "(891, 12)"
      ]
     },
     "execution_count": 19,
     "metadata": {},
     "output_type": "execute_result"
    }
   ],
   "source": [
    "# checking no. of rows and columns\n",
    "df.shape"
   ]
  },
  {
   "cell_type": "markdown",
   "id": "2f15145a",
   "metadata": {
    "papermill": {
     "duration": 0.050346,
     "end_time": "2023-03-17T15:33:06.918657",
     "exception": false,
     "start_time": "2023-03-17T15:33:06.868311",
     "status": "completed"
    },
    "tags": []
   },
   "source": [
    "#### Observations:\n",
    "- There are 891 rows and 11 columns with 1 target column making total 12 columns"
   ]
  },
  {
   "cell_type": "markdown",
   "id": "b2ca463a",
   "metadata": {
    "papermill": {
     "duration": 0.049419,
     "end_time": "2023-03-17T15:33:07.019631",
     "exception": false,
     "start_time": "2023-03-17T15:33:06.970212",
     "status": "completed"
    },
    "tags": []
   },
   "source": [
    "### 1.1 Checking for **Incorrect Datatypes, Missing values and Null values**"
   ]
  },
  {
   "cell_type": "code",
   "execution_count": 20,
   "id": "525ac8a7",
   "metadata": {
    "execution": {
     "iopub.execute_input": "2023-03-17T15:33:07.124161Z",
     "iopub.status.busy": "2023-03-17T15:33:07.123202Z",
     "iopub.status.idle": "2023-03-17T15:33:07.141516Z",
     "shell.execute_reply": "2023-03-17T15:33:07.142380Z",
     "shell.execute_reply.started": "2023-03-17T15:17:17.435510Z"
    },
    "papermill": {
     "duration": 0.073064,
     "end_time": "2023-03-17T15:33:07.142687",
     "exception": false,
     "start_time": "2023-03-17T15:33:07.069623",
     "status": "completed"
    },
    "tags": []
   },
   "outputs": [
    {
     "name": "stdout",
     "output_type": "stream",
     "text": [
      "<class 'pandas.core.frame.DataFrame'>\n",
      "RangeIndex: 891 entries, 0 to 890\n",
      "Data columns (total 12 columns):\n",
      " #   Column       Non-Null Count  Dtype  \n",
      "---  ------       --------------  -----  \n",
      " 0   PassengerId  891 non-null    int64  \n",
      " 1   Pclass       891 non-null    int64  \n",
      " 2   Name         891 non-null    object \n",
      " 3   Sex          891 non-null    object \n",
      " 4   Age          714 non-null    float64\n",
      " 5   SibSp        891 non-null    int64  \n",
      " 6   Parch        891 non-null    int64  \n",
      " 7   Ticket       891 non-null    object \n",
      " 8   Fare         891 non-null    float64\n",
      " 9   Cabin        204 non-null    object \n",
      " 10  Embarked     889 non-null    object \n",
      " 11  Survived     891 non-null    int64  \n",
      "dtypes: float64(2), int64(5), object(5)\n",
      "memory usage: 83.7+ KB\n"
     ]
    }
   ],
   "source": [
    "# summary\n",
    "df.info()"
   ]
  },
  {
   "cell_type": "markdown",
   "id": "60627570",
   "metadata": {
    "papermill": {
     "duration": 0.051096,
     "end_time": "2023-03-17T15:33:07.245689",
     "exception": false,
     "start_time": "2023-03-17T15:33:07.194593",
     "status": "completed"
    },
    "tags": []
   },
   "source": [
    "#### Observations:\n",
    "- `Age` datatype needs to be changed to int but before let's check for the null values in it, as null values could through error while changing datatypes\n",
    "- Datatype for `Age` column needs to be changed as age in never in fractional form.\n",
    "- Columns like `Cabin, Age` have huge number of missing values which needs to be treated before proceedings.\n",
    "- Even `Embarked` is having null values which can be imputed."
   ]
  },
  {
   "cell_type": "code",
   "execution_count": 21,
   "id": "bc627d36",
   "metadata": {
    "execution": {
     "iopub.execute_input": "2023-03-17T15:33:07.354705Z",
     "iopub.status.busy": "2023-03-17T15:33:07.353980Z",
     "iopub.status.idle": "2023-03-17T15:33:07.356586Z",
     "shell.execute_reply": "2023-03-17T15:33:07.357081Z",
     "shell.execute_reply.started": "2023-03-17T15:17:17.459367Z"
    },
    "papermill": {
     "duration": 0.061768,
     "end_time": "2023-03-17T15:33:07.357258",
     "exception": false,
     "start_time": "2023-03-17T15:33:07.295490",
     "status": "completed"
    },
    "tags": []
   },
   "outputs": [
    {
     "data": {
      "text/plain": [
       "PassengerId      0\n",
       "Pclass           0\n",
       "Name             0\n",
       "Sex              0\n",
       "Age            177\n",
       "SibSp            0\n",
       "Parch            0\n",
       "Ticket           0\n",
       "Fare             0\n",
       "Cabin          687\n",
       "Embarked         2\n",
       "Survived         0\n",
       "dtype: int64"
      ]
     },
     "execution_count": 21,
     "metadata": {},
     "output_type": "execute_result"
    }
   ],
   "source": [
    "# counting null/na values in the columns\n",
    "df.isna().sum()"
   ]
  },
  {
   "cell_type": "code",
   "execution_count": 22,
   "id": "c4fe4c88",
   "metadata": {
    "execution": {
     "iopub.execute_input": "2023-03-17T15:33:07.464632Z",
     "iopub.status.busy": "2023-03-17T15:33:07.463946Z",
     "iopub.status.idle": "2023-03-17T15:33:07.470782Z",
     "shell.execute_reply": "2023-03-17T15:33:07.471342Z",
     "shell.execute_reply.started": "2023-03-17T15:17:17.470678Z"
    },
    "papermill": {
     "duration": 0.064232,
     "end_time": "2023-03-17T15:33:07.471520",
     "exception": false,
     "start_time": "2023-03-17T15:33:07.407288",
     "status": "completed"
    },
    "tags": []
   },
   "outputs": [
    {
     "data": {
      "text/plain": [
       "PassengerId     0.00\n",
       "Pclass          0.00\n",
       "Name            0.00\n",
       "Sex             0.00\n",
       "Age            19.87\n",
       "SibSp           0.00\n",
       "Parch           0.00\n",
       "Ticket          0.00\n",
       "Fare            0.00\n",
       "Cabin          77.10\n",
       "Embarked        0.22\n",
       "Survived        0.00\n",
       "dtype: float64"
      ]
     },
     "execution_count": 22,
     "metadata": {},
     "output_type": "execute_result"
    }
   ],
   "source": [
    "# calculating percentage of missing values\n",
    "((df.isna()|df.isnull()).sum() * 100 / len(df)).round(2)"
   ]
  },
  {
   "cell_type": "markdown",
   "id": "c5e9c667",
   "metadata": {
    "papermill": {
     "duration": 0.050679,
     "end_time": "2023-03-17T15:33:07.572569",
     "exception": false,
     "start_time": "2023-03-17T15:33:07.521890",
     "status": "completed"
    },
    "tags": []
   },
   "source": [
    "#### Observations:\n",
    "##### If a column has missing value percentage more than 50% than those columns should not be dropped as it could significantly affect the final outcome.\n",
    "1. The percentage of `Age` column with missing values is 20.09% which can be dropped.\n",
    "2. `Cabin` column has higher number of missing value i.e. 77.46%, hence, these can't be dropped but could be imputed using mode (selecting most frequent value).\n",
    "3. Similarly, `Embarked` column could be imputed using mode."
   ]
  },
  {
   "cell_type": "code",
   "execution_count": 23,
   "id": "155b069e",
   "metadata": {
    "execution": {
     "iopub.execute_input": "2023-03-17T15:33:07.677756Z",
     "iopub.status.busy": "2023-03-17T15:33:07.677061Z",
     "iopub.status.idle": "2023-03-17T15:33:07.685589Z",
     "shell.execute_reply": "2023-03-17T15:33:07.686124Z",
     "shell.execute_reply.started": "2023-03-17T15:17:17.487049Z"
    },
    "papermill": {
     "duration": 0.06323,
     "end_time": "2023-03-17T15:33:07.686301",
     "exception": false,
     "start_time": "2023-03-17T15:33:07.623071",
     "status": "completed"
    },
    "tags": []
   },
   "outputs": [
    {
     "data": {
      "text/plain": [
       "PassengerId      0\n",
       "Pclass           0\n",
       "Name             0\n",
       "Sex              0\n",
       "Age              0\n",
       "SibSp            0\n",
       "Parch            0\n",
       "Ticket           0\n",
       "Fare             0\n",
       "Cabin          529\n",
       "Embarked         2\n",
       "Survived         0\n",
       "dtype: int64"
      ]
     },
     "execution_count": 23,
     "metadata": {},
     "output_type": "execute_result"
    }
   ],
   "source": [
    "# 1. Dropping missing values in 'Age' column\n",
    "df=df[df['Age'].notnull()]\n",
    "\n",
    "# Cross-checking the changes\n",
    "df.isnull().sum()"
   ]
  },
  {
   "cell_type": "code",
   "execution_count": 24,
   "id": "f299878a",
   "metadata": {
    "execution": {
     "iopub.execute_input": "2023-03-17T15:33:07.792554Z",
     "iopub.status.busy": "2023-03-17T15:33:07.791840Z",
     "iopub.status.idle": "2023-03-17T15:33:07.799070Z",
     "shell.execute_reply": "2023-03-17T15:33:07.799614Z",
     "shell.execute_reply.started": "2023-03-17T15:17:17.501921Z"
    },
    "papermill": {
     "duration": 0.062548,
     "end_time": "2023-03-17T15:33:07.799813",
     "exception": false,
     "start_time": "2023-03-17T15:33:07.737265",
     "status": "completed"
    },
    "tags": []
   },
   "outputs": [
    {
     "data": {
      "text/plain": [
       "PassengerId      int64\n",
       "Pclass           int64\n",
       "Name            object\n",
       "Sex             object\n",
       "Age              int64\n",
       "SibSp            int64\n",
       "Parch            int64\n",
       "Ticket          object\n",
       "Fare           float64\n",
       "Cabin           object\n",
       "Embarked        object\n",
       "Survived         int64\n",
       "dtype: object"
      ]
     },
     "execution_count": 24,
     "metadata": {},
     "output_type": "execute_result"
    }
   ],
   "source": [
    "# Age data type should be int\n",
    "# Changing datatype of Age column to 'int' type\n",
    "df['Age'] = df['Age'].astype('int64')\n",
    "\n",
    "# confirming changes\n",
    "df.dtypes"
   ]
  },
  {
   "cell_type": "code",
   "execution_count": 25,
   "id": "fa72688e",
   "metadata": {
    "execution": {
     "iopub.execute_input": "2023-03-17T15:33:07.906354Z",
     "iopub.status.busy": "2023-03-17T15:33:07.905699Z",
     "iopub.status.idle": "2023-03-17T15:33:07.922741Z",
     "shell.execute_reply": "2023-03-17T15:33:07.922223Z",
     "shell.execute_reply.started": "2023-03-17T15:17:17.516416Z"
    },
    "papermill": {
     "duration": 0.071933,
     "end_time": "2023-03-17T15:33:07.922898",
     "exception": false,
     "start_time": "2023-03-17T15:33:07.850965",
     "status": "completed"
    },
    "tags": []
   },
   "outputs": [
    {
     "data": {
      "text/plain": [
       "PassengerId    0\n",
       "Pclass         0\n",
       "Name           0\n",
       "Sex            0\n",
       "Age            0\n",
       "SibSp          0\n",
       "Parch          0\n",
       "Ticket         0\n",
       "Fare           0\n",
       "Cabin          0\n",
       "Embarked       0\n",
       "Survived       0\n",
       "dtype: int64"
      ]
     },
     "execution_count": 25,
     "metadata": {},
     "output_type": "execute_result"
    }
   ],
   "source": [
    "# 2. & 3. Imputing null values with most frequent values in Cabin and Embarked coulmns using mode()\n",
    "df.fillna(df.select_dtypes(include='object').mode().iloc[0], inplace=True)\n",
    "\n",
    "# conforming changes\n",
    "df.isnull().sum()"
   ]
  },
  {
   "cell_type": "markdown",
   "id": "1dce38f6",
   "metadata": {
    "papermill": {
     "duration": 0.057583,
     "end_time": "2023-03-17T15:33:08.035544",
     "exception": false,
     "start_time": "2023-03-17T15:33:07.977961",
     "status": "completed"
    },
    "tags": []
   },
   "source": [
    "### 1.2 Checking **Outliers and Invalid values**"
   ]
  },
  {
   "cell_type": "code",
   "execution_count": 26,
   "id": "9dbc9c94",
   "metadata": {
    "execution": {
     "iopub.execute_input": "2023-03-17T15:33:08.158001Z",
     "iopub.status.busy": "2023-03-17T15:33:08.156944Z",
     "iopub.status.idle": "2023-03-17T15:33:08.183606Z",
     "shell.execute_reply": "2023-03-17T15:33:08.184699Z",
     "shell.execute_reply.started": "2023-03-17T15:17:17.546386Z"
    },
    "papermill": {
     "duration": 0.097414,
     "end_time": "2023-03-17T15:33:08.184902",
     "exception": false,
     "start_time": "2023-03-17T15:33:08.087488",
     "status": "completed"
    },
    "tags": []
   },
   "outputs": [
    {
     "data": {
      "text/html": [
       "<div>\n",
       "<style scoped>\n",
       "    .dataframe tbody tr th:only-of-type {\n",
       "        vertical-align: middle;\n",
       "    }\n",
       "\n",
       "    .dataframe tbody tr th {\n",
       "        vertical-align: top;\n",
       "    }\n",
       "\n",
       "    .dataframe thead th {\n",
       "        text-align: right;\n",
       "    }\n",
       "</style>\n",
       "<table border=\"1\" class=\"dataframe\">\n",
       "  <thead>\n",
       "    <tr style=\"text-align: right;\">\n",
       "      <th></th>\n",
       "      <th>PassengerId</th>\n",
       "      <th>Pclass</th>\n",
       "      <th>Age</th>\n",
       "      <th>SibSp</th>\n",
       "      <th>Parch</th>\n",
       "      <th>Fare</th>\n",
       "      <th>Survived</th>\n",
       "    </tr>\n",
       "  </thead>\n",
       "  <tbody>\n",
       "    <tr>\n",
       "      <th>count</th>\n",
       "      <td>714.000000</td>\n",
       "      <td>714.000000</td>\n",
       "      <td>714.000000</td>\n",
       "      <td>714.000000</td>\n",
       "      <td>714.000000</td>\n",
       "      <td>714.000000</td>\n",
       "      <td>714.000000</td>\n",
       "    </tr>\n",
       "    <tr>\n",
       "      <th>mean</th>\n",
       "      <td>448.582633</td>\n",
       "      <td>2.236695</td>\n",
       "      <td>29.679272</td>\n",
       "      <td>0.512605</td>\n",
       "      <td>0.431373</td>\n",
       "      <td>34.694514</td>\n",
       "      <td>0.406162</td>\n",
       "    </tr>\n",
       "    <tr>\n",
       "      <th>std</th>\n",
       "      <td>259.119524</td>\n",
       "      <td>0.838250</td>\n",
       "      <td>14.536483</td>\n",
       "      <td>0.929783</td>\n",
       "      <td>0.853289</td>\n",
       "      <td>52.918930</td>\n",
       "      <td>0.491460</td>\n",
       "    </tr>\n",
       "    <tr>\n",
       "      <th>min</th>\n",
       "      <td>1.000000</td>\n",
       "      <td>1.000000</td>\n",
       "      <td>0.000000</td>\n",
       "      <td>0.000000</td>\n",
       "      <td>0.000000</td>\n",
       "      <td>0.000000</td>\n",
       "      <td>0.000000</td>\n",
       "    </tr>\n",
       "    <tr>\n",
       "      <th>25%</th>\n",
       "      <td>222.250000</td>\n",
       "      <td>1.000000</td>\n",
       "      <td>20.000000</td>\n",
       "      <td>0.000000</td>\n",
       "      <td>0.000000</td>\n",
       "      <td>8.050000</td>\n",
       "      <td>0.000000</td>\n",
       "    </tr>\n",
       "    <tr>\n",
       "      <th>50%</th>\n",
       "      <td>445.000000</td>\n",
       "      <td>2.000000</td>\n",
       "      <td>28.000000</td>\n",
       "      <td>0.000000</td>\n",
       "      <td>0.000000</td>\n",
       "      <td>15.741700</td>\n",
       "      <td>0.000000</td>\n",
       "    </tr>\n",
       "    <tr>\n",
       "      <th>75%</th>\n",
       "      <td>677.750000</td>\n",
       "      <td>3.000000</td>\n",
       "      <td>38.000000</td>\n",
       "      <td>1.000000</td>\n",
       "      <td>1.000000</td>\n",
       "      <td>33.375000</td>\n",
       "      <td>1.000000</td>\n",
       "    </tr>\n",
       "    <tr>\n",
       "      <th>max</th>\n",
       "      <td>891.000000</td>\n",
       "      <td>3.000000</td>\n",
       "      <td>80.000000</td>\n",
       "      <td>5.000000</td>\n",
       "      <td>6.000000</td>\n",
       "      <td>512.329200</td>\n",
       "      <td>1.000000</td>\n",
       "    </tr>\n",
       "  </tbody>\n",
       "</table>\n",
       "</div>"
      ],
      "text/plain": [
       "       PassengerId      Pclass         Age       SibSp       Parch  \\\n",
       "count   714.000000  714.000000  714.000000  714.000000  714.000000   \n",
       "mean    448.582633    2.236695   29.679272    0.512605    0.431373   \n",
       "std     259.119524    0.838250   14.536483    0.929783    0.853289   \n",
       "min       1.000000    1.000000    0.000000    0.000000    0.000000   \n",
       "25%     222.250000    1.000000   20.000000    0.000000    0.000000   \n",
       "50%     445.000000    2.000000   28.000000    0.000000    0.000000   \n",
       "75%     677.750000    3.000000   38.000000    1.000000    1.000000   \n",
       "max     891.000000    3.000000   80.000000    5.000000    6.000000   \n",
       "\n",
       "             Fare    Survived  \n",
       "count  714.000000  714.000000  \n",
       "mean    34.694514    0.406162  \n",
       "std     52.918930    0.491460  \n",
       "min      0.000000    0.000000  \n",
       "25%      8.050000    0.000000  \n",
       "50%     15.741700    0.000000  \n",
       "75%     33.375000    1.000000  \n",
       "max    512.329200    1.000000  "
      ]
     },
     "execution_count": 26,
     "metadata": {},
     "output_type": "execute_result"
    }
   ],
   "source": [
    "# describing dataset\n",
    "df.describe()"
   ]
  },
  {
   "cell_type": "markdown",
   "id": "6aa550e5",
   "metadata": {
    "papermill": {
     "duration": 0.056469,
     "end_time": "2023-03-17T15:33:08.299588",
     "exception": false,
     "start_time": "2023-03-17T15:33:08.243119",
     "status": "completed"
    },
    "tags": []
   },
   "source": [
    "#### Observations:\n",
    "* There seems to be have no outliers and invalid values in the data."
   ]
  },
  {
   "cell_type": "markdown",
   "id": "65ac89f9",
   "metadata": {
    "papermill": {
     "duration": 0.052909,
     "end_time": "2023-03-17T15:33:08.410088",
     "exception": false,
     "start_time": "2023-03-17T15:33:08.357179",
     "status": "completed"
    },
    "tags": []
   },
   "source": [
    "# Step 2: Data Visualization"
   ]
  },
  {
   "cell_type": "code",
   "execution_count": 27,
   "id": "2cecca27",
   "metadata": {
    "execution": {
     "iopub.execute_input": "2023-03-17T15:33:08.530208Z",
     "iopub.status.busy": "2023-03-17T15:33:08.529289Z",
     "iopub.status.idle": "2023-03-17T15:33:08.532889Z",
     "shell.execute_reply": "2023-03-17T15:33:08.533582Z",
     "shell.execute_reply.started": "2023-03-17T15:17:17.579276Z"
    },
    "papermill": {
     "duration": 0.071118,
     "end_time": "2023-03-17T15:33:08.533808",
     "exception": false,
     "start_time": "2023-03-17T15:33:08.462690",
     "status": "completed"
    },
    "tags": []
   },
   "outputs": [
    {
     "data": {
      "text/html": [
       "<div>\n",
       "<style scoped>\n",
       "    .dataframe tbody tr th:only-of-type {\n",
       "        vertical-align: middle;\n",
       "    }\n",
       "\n",
       "    .dataframe tbody tr th {\n",
       "        vertical-align: top;\n",
       "    }\n",
       "\n",
       "    .dataframe thead th {\n",
       "        text-align: right;\n",
       "    }\n",
       "</style>\n",
       "<table border=\"1\" class=\"dataframe\">\n",
       "  <thead>\n",
       "    <tr style=\"text-align: right;\">\n",
       "      <th></th>\n",
       "      <th>PassengerId</th>\n",
       "      <th>Pclass</th>\n",
       "      <th>Name</th>\n",
       "      <th>Sex</th>\n",
       "      <th>Age</th>\n",
       "      <th>SibSp</th>\n",
       "      <th>Parch</th>\n",
       "      <th>Ticket</th>\n",
       "      <th>Fare</th>\n",
       "      <th>Cabin</th>\n",
       "      <th>Embarked</th>\n",
       "      <th>Survived</th>\n",
       "    </tr>\n",
       "  </thead>\n",
       "  <tbody>\n",
       "    <tr>\n",
       "      <th>0</th>\n",
       "      <td>1</td>\n",
       "      <td>3</td>\n",
       "      <td>Braund, Mr. Owen Harris</td>\n",
       "      <td>male</td>\n",
       "      <td>22</td>\n",
       "      <td>1</td>\n",
       "      <td>0</td>\n",
       "      <td>A/5 21171</td>\n",
       "      <td>7.2500</td>\n",
       "      <td>B96 B98</td>\n",
       "      <td>S</td>\n",
       "      <td>0</td>\n",
       "    </tr>\n",
       "    <tr>\n",
       "      <th>1</th>\n",
       "      <td>2</td>\n",
       "      <td>1</td>\n",
       "      <td>Cumings, Mrs. John Bradley (Florence Briggs Th...</td>\n",
       "      <td>female</td>\n",
       "      <td>38</td>\n",
       "      <td>1</td>\n",
       "      <td>0</td>\n",
       "      <td>PC 17599</td>\n",
       "      <td>71.2833</td>\n",
       "      <td>C85</td>\n",
       "      <td>C</td>\n",
       "      <td>1</td>\n",
       "    </tr>\n",
       "    <tr>\n",
       "      <th>2</th>\n",
       "      <td>3</td>\n",
       "      <td>3</td>\n",
       "      <td>Heikkinen, Miss. Laina</td>\n",
       "      <td>female</td>\n",
       "      <td>26</td>\n",
       "      <td>0</td>\n",
       "      <td>0</td>\n",
       "      <td>STON/O2. 3101282</td>\n",
       "      <td>7.9250</td>\n",
       "      <td>B96 B98</td>\n",
       "      <td>S</td>\n",
       "      <td>1</td>\n",
       "    </tr>\n",
       "    <tr>\n",
       "      <th>3</th>\n",
       "      <td>4</td>\n",
       "      <td>1</td>\n",
       "      <td>Futrelle, Mrs. Jacques Heath (Lily May Peel)</td>\n",
       "      <td>female</td>\n",
       "      <td>35</td>\n",
       "      <td>1</td>\n",
       "      <td>0</td>\n",
       "      <td>113803</td>\n",
       "      <td>53.1000</td>\n",
       "      <td>C123</td>\n",
       "      <td>S</td>\n",
       "      <td>1</td>\n",
       "    </tr>\n",
       "    <tr>\n",
       "      <th>4</th>\n",
       "      <td>5</td>\n",
       "      <td>3</td>\n",
       "      <td>Allen, Mr. William Henry</td>\n",
       "      <td>male</td>\n",
       "      <td>35</td>\n",
       "      <td>0</td>\n",
       "      <td>0</td>\n",
       "      <td>373450</td>\n",
       "      <td>8.0500</td>\n",
       "      <td>B96 B98</td>\n",
       "      <td>S</td>\n",
       "      <td>0</td>\n",
       "    </tr>\n",
       "  </tbody>\n",
       "</table>\n",
       "</div>"
      ],
      "text/plain": [
       "   PassengerId  Pclass                                               Name  \\\n",
       "0            1       3                            Braund, Mr. Owen Harris   \n",
       "1            2       1  Cumings, Mrs. John Bradley (Florence Briggs Th...   \n",
       "2            3       3                             Heikkinen, Miss. Laina   \n",
       "3            4       1       Futrelle, Mrs. Jacques Heath (Lily May Peel)   \n",
       "4            5       3                           Allen, Mr. William Henry   \n",
       "\n",
       "      Sex  Age  SibSp  Parch            Ticket     Fare    Cabin Embarked  \\\n",
       "0    male   22      1      0         A/5 21171   7.2500  B96 B98        S   \n",
       "1  female   38      1      0          PC 17599  71.2833      C85        C   \n",
       "2  female   26      0      0  STON/O2. 3101282   7.9250  B96 B98        S   \n",
       "3  female   35      1      0            113803  53.1000     C123        S   \n",
       "4    male   35      0      0            373450   8.0500  B96 B98        S   \n",
       "\n",
       "   Survived  \n",
       "0         0  \n",
       "1         1  \n",
       "2         1  \n",
       "3         1  \n",
       "4         0  "
      ]
     },
     "execution_count": 27,
     "metadata": {},
     "output_type": "execute_result"
    }
   ],
   "source": [
    "# Data obersvation\n",
    "df.head()"
   ]
  },
  {
   "cell_type": "code",
   "execution_count": 28,
   "id": "483778aa",
   "metadata": {
    "execution": {
     "iopub.execute_input": "2023-03-17T15:33:08.648696Z",
     "iopub.status.busy": "2023-03-17T15:33:08.648018Z",
     "iopub.status.idle": "2023-03-17T15:33:08.662656Z",
     "shell.execute_reply": "2023-03-17T15:33:08.663212Z",
     "shell.execute_reply.started": "2023-03-17T15:17:17.596772Z"
    },
    "papermill": {
     "duration": 0.07175,
     "end_time": "2023-03-17T15:33:08.663406",
     "exception": false,
     "start_time": "2023-03-17T15:33:08.591656",
     "status": "completed"
    },
    "tags": []
   },
   "outputs": [
    {
     "name": "stdout",
     "output_type": "stream",
     "text": [
      "<class 'pandas.core.frame.DataFrame'>\n",
      "Int64Index: 714 entries, 0 to 890\n",
      "Data columns (total 12 columns):\n",
      " #   Column       Non-Null Count  Dtype  \n",
      "---  ------       --------------  -----  \n",
      " 0   PassengerId  714 non-null    int64  \n",
      " 1   Pclass       714 non-null    int64  \n",
      " 2   Name         714 non-null    object \n",
      " 3   Sex          714 non-null    object \n",
      " 4   Age          714 non-null    int64  \n",
      " 5   SibSp        714 non-null    int64  \n",
      " 6   Parch        714 non-null    int64  \n",
      " 7   Ticket       714 non-null    object \n",
      " 8   Fare         714 non-null    float64\n",
      " 9   Cabin        714 non-null    object \n",
      " 10  Embarked     714 non-null    object \n",
      " 11  Survived     714 non-null    int64  \n",
      "dtypes: float64(1), int64(6), object(5)\n",
      "memory usage: 72.5+ KB\n"
     ]
    }
   ],
   "source": [
    "# data summary\n",
    "df.info()"
   ]
  },
  {
   "cell_type": "markdown",
   "id": "0319be60",
   "metadata": {
    "papermill": {
     "duration": 0.053701,
     "end_time": "2023-03-17T15:33:08.770853",
     "exception": false,
     "start_time": "2023-03-17T15:33:08.717152",
     "status": "completed"
    },
    "tags": []
   },
   "source": [
    "## 2.1 Bivariate Analysis"
   ]
  },
  {
   "cell_type": "markdown",
   "id": "bc32769e",
   "metadata": {
    "papermill": {
     "duration": 0.052642,
     "end_time": "2023-03-17T15:33:08.877016",
     "exception": false,
     "start_time": "2023-03-17T15:33:08.824374",
     "status": "completed"
    },
    "tags": []
   },
   "source": [
    "### 2.1.1 Pclass Vs Survived"
   ]
  },
  {
   "cell_type": "code",
   "execution_count": 29,
   "id": "748ea660",
   "metadata": {
    "execution": {
     "iopub.execute_input": "2023-03-17T15:33:08.990422Z",
     "iopub.status.busy": "2023-03-17T15:33:08.989753Z",
     "iopub.status.idle": "2023-03-17T15:33:09.246646Z",
     "shell.execute_reply": "2023-03-17T15:33:09.246068Z",
     "shell.execute_reply.started": "2023-03-17T15:17:17.615719Z"
    },
    "papermill": {
     "duration": 0.313737,
     "end_time": "2023-03-17T15:33:09.246808",
     "exception": false,
     "start_time": "2023-03-17T15:33:08.933071",
     "status": "completed"
    },
    "tags": []
   },
   "outputs": [
    {
     "data": {
      "image/png": "[encoded data removed]",
      "text/plain": [
       "<Figure size 640x480 with 1 Axes>"
      ]
     },
     "metadata": {},
     "output_type": "display_data"
    }
   ],
   "source": [
    "# Visualizing 'Survived' Vs 'Pclass'\n",
    "sns.countplot(x='Pclass', data=df, hue='Survived')\n",
    "plt.title('Pclass Vs Survived', fontsize=20)\n",
    "plt.xlabel('Pclass', fontsize=15)\n",
    "plt.ylabel('Survival Count', fontsize=15)\n",
    "plt.show()"
   ]
  },
  {
   "cell_type": "markdown",
   "id": "c00b313c",
   "metadata": {
    "papermill": {
     "duration": 0.053105,
     "end_time": "2023-03-17T15:33:09.354478",
     "exception": false,
     "start_time": "2023-03-17T15:33:09.301373",
     "status": "completed"
    },
    "tags": []
   },
   "source": [
    "#### Observations:\n",
    "1. We can clear see and understand that passengers of with `3rd class ticket had very low chance of surviving`.\n",
    "2. Where, passengers of `1st class ticket had higher chances of surviving`.\n",
    "3. Passenger with `2nd class ticket had mix match chances` of surviving and dying. "
   ]
  },
  {
   "cell_type": "markdown",
   "id": "bb68704c",
   "metadata": {
    "papermill": {
     "duration": 0.053207,
     "end_time": "2023-03-17T15:33:09.461190",
     "exception": false,
     "start_time": "2023-03-17T15:33:09.407983",
     "status": "completed"
    },
    "tags": []
   },
   "source": [
    "### 2.1.2 Gender Vs Survived / Pclass"
   ]
  },
  {
   "cell_type": "code",
   "execution_count": 30,
   "id": "814d8498",
   "metadata": {
    "execution": {
     "iopub.execute_input": "2023-03-17T15:33:09.576976Z",
     "iopub.status.busy": "2023-03-17T15:33:09.575965Z",
     "iopub.status.idle": "2023-03-17T15:33:10.016852Z",
     "shell.execute_reply": "2023-03-17T15:33:10.017332Z",
     "shell.execute_reply.started": "2023-03-17T15:17:17.901437Z"
    },
    "papermill": {
     "duration": 0.503087,
     "end_time": "2023-03-17T15:33:10.017551",
     "exception": false,
     "start_time": "2023-03-17T15:33:09.514464",
     "status": "completed"
    },
    "tags": []
   },
   "outputs": [
    {
     "data": {
      "image/png": "[encoded data removed]",
      "text/plain": [
       "<Figure size 640x480 with 1 Axes>"
      ]
     },
     "metadata": {},
     "output_type": "display_data"
    },
    {
     "data": {
      "image/png": "[encoded data removed]",
      "text/plain": [
       "<Figure size 640x480 with 1 Axes>"
      ]
     },
     "metadata": {},
     "output_type": "display_data"
    }
   ],
   "source": [
    "# Visualizing 'Survived' Vs 'Sex'\n",
    "sns.countplot(x='Sex', data=df, hue='Survived')\n",
    "plt.title('Gender Vs Survived', fontsize=20)\n",
    "plt.xlabel('Sex', fontsize=15)\n",
    "plt.ylabel('Survival Count', fontsize=15)\n",
    "plt.show()\n",
    "\n",
    "# Visualizing 'Pclass' Vs 'Gender'\n",
    "sns.countplot(x='Pclass', data=df, hue='Sex', palette='husl')\n",
    "plt.title('Gender Vs Pclass', fontsize=20)\n",
    "plt.xlabel('Pclass', fontsize=15)\n",
    "plt.ylabel('Gender Count', fontsize=15)\n",
    "plt.show()"
   ]
  },
  {
   "cell_type": "markdown",
   "id": "7fd21d75",
   "metadata": {
    "papermill": {
     "duration": 0.054555,
     "end_time": "2023-03-17T15:33:10.126988",
     "exception": false,
     "start_time": "2023-03-17T15:33:10.072433",
     "status": "completed"
    },
    "tags": []
   },
   "source": [
    "#### Observations:\n",
    "1. This visualization shows that more number of females were able to survive the accident.<br>\n",
    "`Note: The reason behind this could be as number of life boats were less and therefore females were considered above males`\n",
    "2. As we saw in `Pclass Vs Survived` visualization that passengers in 3rd class had lowest survival rate and above visualization of `Pclass Vs Sex` concludes that there were higher number of male passengers in 3rd class.<br>\n",
    "`Hence there were more deaths than survival among among males in 'Gender Vs Survived' visualization` "
   ]
  },
  {
   "cell_type": "markdown",
   "id": "ec2c3654",
   "metadata": {
    "papermill": {
     "duration": 0.054596,
     "end_time": "2023-03-17T15:33:10.236719",
     "exception": false,
     "start_time": "2023-03-17T15:33:10.182123",
     "status": "completed"
    },
    "tags": []
   },
   "source": [
    "### 2.1.3.1 Age Vs Survived"
   ]
  },
  {
   "cell_type": "code",
   "execution_count": 32,
   "id": "2bf5ca66",
   "metadata": {
    "execution": {
     "iopub.execute_input": "2023-03-17T15:33:10.355836Z",
     "iopub.status.busy": "2023-03-17T15:33:10.354842Z",
     "iopub.status.idle": "2023-03-17T15:33:11.584358Z",
     "shell.execute_reply": "2023-03-17T15:33:11.584925Z",
     "shell.execute_reply.started": "2023-03-17T15:17:18.352908Z"
    },
    "papermill": {
     "duration": 1.293089,
     "end_time": "2023-03-17T15:33:11.585115",
     "exception": false,
     "start_time": "2023-03-17T15:33:10.292026",
     "status": "completed"
    },
    "tags": []
   },
   "outputs": [
    {
     "data": {
      "image/png": "[encoded data removed]",
      "text/plain": [
       "<Figure size 640x480 with 1 Axes>"
      ]
     },
     "metadata": {},
     "output_type": "display_data"
    }
   ],
   "source": [
    "# Visualizing 'Survived' Vs 'Age'\n",
    "sns.countplot(x='Age', data=df, hue='Survived')\n",
    "plt.title('Age Vs Survived', fontsize=20)\n",
    "plt.xlabel('Age', fontsize=15)\n",
    "plt.ylabel('Survival Count', fontsize=15)\n",
    "plt.legend(bbox_to_anchor=(1.01, 1),borderaxespad=0)\n",
    "\n",
    "plt.show()"
   ]
  },
  {
   "cell_type": "markdown",
   "id": "5cc47601",
   "metadata": {
    "papermill": {
     "duration": 0.056376,
     "end_time": "2023-03-17T15:33:11.697486",
     "exception": false,
     "start_time": "2023-03-17T15:33:11.641110",
     "status": "completed"
    },
    "tags": []
   },
   "source": [
    "#### To have a proper visualization of `Age` column we can create range of ages say 0-20, 21-40, 41-60, 61-80 and label them as 0,1,2,3."
   ]
  },
  {
   "cell_type": "code",
   "execution_count": 33,
   "id": "87fb4747",
   "metadata": {
    "execution": {
     "iopub.execute_input": "2023-03-17T15:33:11.815507Z",
     "iopub.status.busy": "2023-03-17T15:33:11.814521Z",
     "iopub.status.idle": "2023-03-17T15:33:11.822359Z",
     "shell.execute_reply": "2023-03-17T15:33:11.822890Z",
     "shell.execute_reply.started": "2023-03-17T15:17:19.620165Z"
    },
    "papermill": {
     "duration": 0.069446,
     "end_time": "2023-03-17T15:33:11.823066",
     "exception": false,
     "start_time": "2023-03-17T15:33:11.753620",
     "status": "completed"
    },
    "tags": []
   },
   "outputs": [
    {
     "data": {
      "text/plain": [
       "1    368\n",
       "0    197\n",
       "2    123\n",
       "3     19\n",
       "Name: Age_Bins, dtype: int64"
      ]
     },
     "execution_count": 33,
     "metadata": {},
     "output_type": "execute_result"
    }
   ],
   "source": [
    "# Create ordinal category for Age using binning method cut\n",
    "cutLabels= [0,1,2,3]\n",
    "cutBins = [0, 21, 41, 61, 80]\n",
    "df['Age_Bins'] = pd.cut(df['Age'], bins=cutBins, labels=cutLabels)\n",
    "\n",
    "df.Age_Bins.value_counts()"
   ]
  },
  {
   "cell_type": "markdown",
   "id": "3c9d3add",
   "metadata": {
    "papermill": {
     "duration": 0.056015,
     "end_time": "2023-03-17T15:33:11.936099",
     "exception": false,
     "start_time": "2023-03-17T15:33:11.880084",
     "status": "completed"
    },
    "tags": []
   },
   "source": [
    "#### Now we can remove `Age` Column and use `Age_Bin` for visualization and analysis "
   ]
  },
  {
   "cell_type": "code",
   "execution_count": 34,
   "id": "500f2654",
   "metadata": {
    "execution": {
     "iopub.execute_input": "2023-03-17T15:33:12.054232Z",
     "iopub.status.busy": "2023-03-17T15:33:12.053577Z",
     "iopub.status.idle": "2023-03-17T15:33:12.070860Z",
     "shell.execute_reply": "2023-03-17T15:33:12.071367Z",
     "shell.execute_reply.started": "2023-03-17T15:17:19.634134Z"
    },
    "papermill": {
     "duration": 0.077769,
     "end_time": "2023-03-17T15:33:12.071565",
     "exception": false,
     "start_time": "2023-03-17T15:33:11.993796",
     "status": "completed"
    },
    "tags": []
   },
   "outputs": [
    {
     "data": {
      "text/html": [
       "<div>\n",
       "<style scoped>\n",
       "    .dataframe tbody tr th:only-of-type {\n",
       "        vertical-align: middle;\n",
       "    }\n",
       "\n",
       "    .dataframe tbody tr th {\n",
       "        vertical-align: top;\n",
       "    }\n",
       "\n",
       "    .dataframe thead th {\n",
       "        text-align: right;\n",
       "    }\n",
       "</style>\n",
       "<table border=\"1\" class=\"dataframe\">\n",
       "  <thead>\n",
       "    <tr style=\"text-align: right;\">\n",
       "      <th></th>\n",
       "      <th>PassengerId</th>\n",
       "      <th>Pclass</th>\n",
       "      <th>Name</th>\n",
       "      <th>Sex</th>\n",
       "      <th>SibSp</th>\n",
       "      <th>Parch</th>\n",
       "      <th>Ticket</th>\n",
       "      <th>Fare</th>\n",
       "      <th>Cabin</th>\n",
       "      <th>Embarked</th>\n",
       "      <th>Age_Bins</th>\n",
       "      <th>Survived</th>\n",
       "    </tr>\n",
       "  </thead>\n",
       "  <tbody>\n",
       "    <tr>\n",
       "      <th>0</th>\n",
       "      <td>1</td>\n",
       "      <td>3</td>\n",
       "      <td>Braund, Mr. Owen Harris</td>\n",
       "      <td>male</td>\n",
       "      <td>1</td>\n",
       "      <td>0</td>\n",
       "      <td>A/5 21171</td>\n",
       "      <td>7.2500</td>\n",
       "      <td>B96 B98</td>\n",
       "      <td>S</td>\n",
       "      <td>1</td>\n",
       "      <td>0</td>\n",
       "    </tr>\n",
       "    <tr>\n",
       "      <th>1</th>\n",
       "      <td>2</td>\n",
       "      <td>1</td>\n",
       "      <td>Cumings, Mrs. John Bradley (Florence Briggs Th...</td>\n",
       "      <td>female</td>\n",
       "      <td>1</td>\n",
       "      <td>0</td>\n",
       "      <td>PC 17599</td>\n",
       "      <td>71.2833</td>\n",
       "      <td>C85</td>\n",
       "      <td>C</td>\n",
       "      <td>1</td>\n",
       "      <td>1</td>\n",
       "    </tr>\n",
       "    <tr>\n",
       "      <th>2</th>\n",
       "      <td>3</td>\n",
       "      <td>3</td>\n",
       "      <td>Heikkinen, Miss. Laina</td>\n",
       "      <td>female</td>\n",
       "      <td>0</td>\n",
       "      <td>0</td>\n",
       "      <td>STON/O2. 3101282</td>\n",
       "      <td>7.9250</td>\n",
       "      <td>B96 B98</td>\n",
       "      <td>S</td>\n",
       "      <td>1</td>\n",
       "      <td>1</td>\n",
       "    </tr>\n",
       "    <tr>\n",
       "      <th>3</th>\n",
       "      <td>4</td>\n",
       "      <td>1</td>\n",
       "      <td>Futrelle, Mrs. Jacques Heath (Lily May Peel)</td>\n",
       "      <td>female</td>\n",
       "      <td>1</td>\n",
       "      <td>0</td>\n",
       "      <td>113803</td>\n",
       "      <td>53.1000</td>\n",
       "      <td>C123</td>\n",
       "      <td>S</td>\n",
       "      <td>1</td>\n",
       "      <td>1</td>\n",
       "    </tr>\n",
       "    <tr>\n",
       "      <th>4</th>\n",
       "      <td>5</td>\n",
       "      <td>3</td>\n",
       "      <td>Allen, Mr. William Henry</td>\n",
       "      <td>male</td>\n",
       "      <td>0</td>\n",
       "      <td>0</td>\n",
       "      <td>373450</td>\n",
       "      <td>8.0500</td>\n",
       "      <td>B96 B98</td>\n",
       "      <td>S</td>\n",
       "      <td>1</td>\n",
       "      <td>0</td>\n",
       "    </tr>\n",
       "  </tbody>\n",
       "</table>\n",
       "</div>"
      ],
      "text/plain": [
       "   PassengerId  Pclass                                               Name  \\\n",
       "0            1       3                            Braund, Mr. Owen Harris   \n",
       "1            2       1  Cumings, Mrs. John Bradley (Florence Briggs Th...   \n",
       "2            3       3                             Heikkinen, Miss. Laina   \n",
       "3            4       1       Futrelle, Mrs. Jacques Heath (Lily May Peel)   \n",
       "4            5       3                           Allen, Mr. William Henry   \n",
       "\n",
       "      Sex  SibSp  Parch            Ticket     Fare    Cabin Embarked Age_Bins  \\\n",
       "0    male      1      0         A/5 21171   7.2500  B96 B98        S        1   \n",
       "1  female      1      0          PC 17599  71.2833      C85        C        1   \n",
       "2  female      0      0  STON/O2. 3101282   7.9250  B96 B98        S        1   \n",
       "3  female      1      0            113803  53.1000     C123        S        1   \n",
       "4    male      0      0            373450   8.0500  B96 B98        S        1   \n",
       "\n",
       "   Survived  \n",
       "0         0  \n",
       "1         1  \n",
       "2         1  \n",
       "3         1  \n",
       "4         0  "
      ]
     },
     "execution_count": 34,
     "metadata": {},
     "output_type": "execute_result"
    }
   ],
   "source": [
    "# Drop 'Age' column\n",
    "df.drop(['Age'], axis=1, inplace=True)\n",
    "\n",
    "# moving target column to the last\n",
    "df = df.reindex(columns = [col for col in df.columns if col != 'Survived'] + ['Survived'])\n",
    "\n",
    "df.head()"
   ]
  },
  {
   "cell_type": "markdown",
   "id": "661ff2b8",
   "metadata": {
    "papermill": {
     "duration": 0.057044,
     "end_time": "2023-03-17T15:33:12.188671",
     "exception": false,
     "start_time": "2023-03-17T15:33:12.131627",
     "status": "completed"
    },
    "tags": []
   },
   "source": [
    "#### We will need to change data type of new columns `Age_Bins` from **category to int**."
   ]
  },
  {
   "cell_type": "code",
   "execution_count": 37,
   "id": "cd591c18",
   "metadata": {
    "execution": {
     "iopub.execute_input": "2023-03-17T15:33:12.321318Z",
     "iopub.status.busy": "2023-03-17T15:33:12.320275Z",
     "iopub.status.idle": "2023-03-17T15:33:12.323806Z",
     "shell.execute_reply": "2023-03-17T15:33:12.324505Z",
     "shell.execute_reply.started": "2023-03-17T15:17:19.655501Z"
    },
    "papermill": {
     "duration": 0.077085,
     "end_time": "2023-03-17T15:33:12.324756",
     "exception": false,
     "start_time": "2023-03-17T15:33:12.247671",
     "status": "completed"
    },
    "tags": []
   },
   "outputs": [
    {
     "name": "stdout",
     "output_type": "stream",
     "text": [
      "<class 'pandas.core.frame.DataFrame'>\n",
      "Int64Index: 714 entries, 0 to 890\n",
      "Data columns (total 12 columns):\n",
      " #   Column       Non-Null Count  Dtype  \n",
      "---  ------       --------------  -----  \n",
      " 0   PassengerId  714 non-null    int64  \n",
      " 1   Pclass       714 non-null    int64  \n",
      " 2   Name         714 non-null    object \n",
      " 3   Sex          714 non-null    object \n",
      " 4   SibSp        714 non-null    int64  \n",
      " 5   Parch        714 non-null    int64  \n",
      " 6   Ticket       714 non-null    object \n",
      " 7   Fare         714 non-null    float64\n",
      " 8   Cabin        714 non-null    object \n",
      " 9   Embarked     714 non-null    object \n",
      " 10  Age_Bins     714 non-null    int32  \n",
      " 11  Survived     714 non-null    int64  \n",
      "dtypes: float64(1), int32(1), int64(5), object(5)\n",
      "memory usage: 69.7+ KB\n"
     ]
    }
   ],
   "source": [
    "# change data type of Age_Bins using LabelEncoder\n",
    "num = LabelEncoder()\n",
    "df['Age_Bins'] = num.fit_transform(df['Age_Bins'].astype('str'))\n",
    "\n",
    "df.info()"
   ]
  },
  {
   "cell_type": "markdown",
   "id": "e8ece0cb",
   "metadata": {
    "papermill": {
     "duration": 0.056366,
     "end_time": "2023-03-17T15:33:12.439679",
     "exception": false,
     "start_time": "2023-03-17T15:33:12.383313",
     "status": "completed"
    },
    "tags": []
   },
   "source": [
    "### 2.1.3.2 Age_Bins Vs Survived / Pclass / Gender"
   ]
  },
  {
   "cell_type": "code",
   "execution_count": 38,
   "id": "6dfcad4a",
   "metadata": {
    "execution": {
     "iopub.execute_input": "2023-03-17T15:33:12.562931Z",
     "iopub.status.busy": "2023-03-17T15:33:12.561964Z",
     "iopub.status.idle": "2023-03-17T15:33:13.280069Z",
     "shell.execute_reply": "2023-03-17T15:33:13.279516Z",
     "shell.execute_reply.started": "2023-03-17T15:17:19.674450Z"
    },
    "papermill": {
     "duration": 0.783928,
     "end_time": "2023-03-17T15:33:13.280213",
     "exception": false,
     "start_time": "2023-03-17T15:33:12.496285",
     "status": "completed"
    },
    "tags": []
   },
   "outputs": [
    {
     "data": {
      "image/png": "[encoded data removed]",
      "text/plain": [
       "<Figure size 640x480 with 1 Axes>"
      ]
     },
     "metadata": {},
     "output_type": "display_data"
    },
    {
     "data": {
      "image/png": "[encoded data removed]",
      "text/plain": [
       "<Figure size 640x480 with 1 Axes>"
      ]
     },
     "metadata": {},
     "output_type": "display_data"
    },
    {
     "data": {
      "image/png": "[encoded data removed]",
      "text/plain": [
       "<Figure size 640x480 with 1 Axes>"
      ]
     },
     "metadata": {},
     "output_type": "display_data"
    }
   ],
   "source": [
    "# Visualizing 'Survived' Vs 'Age_Bins'\n",
    "sns.countplot(x='Age_Bins', data=df, hue='Survived')\n",
    "plt.title('Age_Bins Vs Survived', fontsize=20)\n",
    "plt.xlabel('Age_Bins', fontsize=15)\n",
    "plt.ylabel('Survival Count', fontsize=15)\n",
    "plt.show()\n",
    "\n",
    "# Visualizing 'Pclass' Vs 'Age_Bins'\n",
    "sns.countplot(x='Age_Bins', data=df, hue='Pclass', palette='deep')\n",
    "plt.title('Age_Bins Vs Pclass', fontsize=20)\n",
    "plt.xlabel('Age_Bins', fontsize=15)\n",
    "plt.ylabel('Pclass', fontsize=15)\n",
    "plt.show()\n",
    "\n",
    "# Visualizing 'Gender' Vs 'Age_Bins'\n",
    "sns.countplot(x='Age_Bins', data=df, hue='Sex', palette='colorblind')\n",
    "plt.title('Age_Bins Vs Gender', fontsize=20)\n",
    "plt.xlabel('Age_Bins', fontsize=15)\n",
    "plt.ylabel('Gender', fontsize=15)\n",
    "plt.show()"
   ]
  },
  {
   "cell_type": "markdown",
   "id": "79bd535a",
   "metadata": {
    "papermill": {
     "duration": 0.059202,
     "end_time": "2023-03-17T15:33:13.399057",
     "exception": false,
     "start_time": "2023-03-17T15:33:13.339855",
     "status": "completed"
    },
    "tags": []
   },
   "source": [
    "#### Observations:\n",
    "`0-20 = 0, 21-40 = 1, 41-60 = 2, 61-80 = 3`\n",
    "1. Passengers between age group of `21 to 40 had highest death counts`.\n",
    "2. While, passenger between age group of `61-80 had lowest death counts`.\n",
    "3. In above visualizations, last two visualizations prove that the reason behind high number of deaths will be counted for passengers of age group betweem 21 to 40 because<br>\n",
    "  - Most of the passengers in that age group are from 3rd class and this class seems to have higher number of deaths as per visualization. *{Refer `Age_Bins Vs Gender` and `Pclass Vs Survived` visualization respectively}*\n",
    "  - Most of the passengers are male in this age group and male will have higher number of deaths *{Refer Sex Vs Survived visualization}*"
   ]
  },
  {
   "cell_type": "markdown",
   "id": "df68d2b2",
   "metadata": {
    "papermill": {
     "duration": 0.058954,
     "end_time": "2023-03-17T15:33:13.517317",
     "exception": false,
     "start_time": "2023-03-17T15:33:13.458363",
     "status": "completed"
    },
    "tags": []
   },
   "source": [
    "### 2.1.4 SibSp Vs Survived"
   ]
  },
  {
   "cell_type": "code",
   "execution_count": 39,
   "id": "db817d14",
   "metadata": {
    "execution": {
     "iopub.execute_input": "2023-03-17T15:33:13.642629Z",
     "iopub.status.busy": "2023-03-17T15:33:13.638429Z",
     "iopub.status.idle": "2023-03-17T15:33:13.895201Z",
     "shell.execute_reply": "2023-03-17T15:33:13.894518Z",
     "shell.execute_reply.started": "2023-03-17T15:17:20.414079Z"
    },
    "papermill": {
     "duration": 0.318592,
     "end_time": "2023-03-17T15:33:13.895355",
     "exception": false,
     "start_time": "2023-03-17T15:33:13.576763",
     "status": "completed"
    },
    "tags": []
   },
   "outputs": [
    {
     "data": {
      "image/png": "[encoded data removed]",
      "text/plain": [
       "<Figure size 640x480 with 1 Axes>"
      ]
     },
     "metadata": {},
     "output_type": "display_data"
    }
   ],
   "source": [
    "# Visualizing 'Survived' Vs 'SibSp'\n",
    "sns.countplot(x='SibSp', data=df, hue='Survived')\n",
    "plt.title('SibSp Vs Survived', fontsize=20)\n",
    "plt.xlabel('SibSp', fontsize=15)\n",
    "plt.ylabel('Survival Count', fontsize=15)\n",
    "plt.legend(bbox_to_anchor=(1.01, 1),borderaxespad=0)\n",
    "plt.show()"
   ]
  },
  {
   "cell_type": "markdown",
   "id": "ab083b8c",
   "metadata": {
    "papermill": {
     "duration": 0.060131,
     "end_time": "2023-03-17T15:33:14.017428",
     "exception": false,
     "start_time": "2023-03-17T15:33:13.957297",
     "status": "completed"
    },
    "tags": []
   },
   "source": [
    "#### Observations:\n",
    "1. Visualization shows that passengers with `0 or 2 or 3 or 4 or 5 siblings/spouses can have higher number of deaths(0) than survival (1)`.\n",
    "2. While passengers with with `1 sibling/spouse have less death counts and more survival count`.\n",
    "3. But passengers with `0 or 3 or 4 or 5 siblings/spouses are the ones with high death rates`."
   ]
  },
  {
   "cell_type": "markdown",
   "id": "2e7b2308",
   "metadata": {
    "papermill": {
     "duration": 0.059702,
     "end_time": "2023-03-17T15:33:14.136999",
     "exception": false,
     "start_time": "2023-03-17T15:33:14.077297",
     "status": "completed"
    },
    "tags": []
   },
   "source": [
    "### 2.1.5 Parch Vs Survived"
   ]
  },
  {
   "cell_type": "code",
   "execution_count": 40,
   "id": "9032421f",
   "metadata": {
    "execution": {
     "iopub.execute_input": "2023-03-17T15:33:14.268964Z",
     "iopub.status.busy": "2023-03-17T15:33:14.264499Z",
     "iopub.status.idle": "2023-03-17T15:33:14.522118Z",
     "shell.execute_reply": "2023-03-17T15:33:14.522611Z",
     "shell.execute_reply.started": "2023-03-17T15:17:20.674166Z"
    },
    "papermill": {
     "duration": 0.324808,
     "end_time": "2023-03-17T15:33:14.522789",
     "exception": false,
     "start_time": "2023-03-17T15:33:14.197981",
     "status": "completed"
    },
    "tags": []
   },
   "outputs": [
    {
     "data": {
      "image/png": "[encoded data removed]",
      "text/plain": [
       "<Figure size 640x480 with 1 Axes>"
      ]
     },
     "metadata": {},
     "output_type": "display_data"
    }
   ],
   "source": [
    "# Visualizing 'Survived' Vs 'Parch'\n",
    "sns.countplot(x='Parch', data=df, hue='Survived')\n",
    "plt.title('Parch Vs Survived', fontsize=20)\n",
    "plt.xlabel('Parch', fontsize=15)\n",
    "plt.ylabel('Survival Count', fontsize=15)\n",
    "plt.legend(bbox_to_anchor=(1.01, 1),borderaxespad=0)\n",
    "plt.show()"
   ]
  },
  {
   "cell_type": "markdown",
   "id": "e095d77e",
   "metadata": {
    "papermill": {
     "duration": 0.06002,
     "end_time": "2023-03-17T15:33:14.643395",
     "exception": false,
     "start_time": "2023-03-17T15:33:14.583375",
     "status": "completed"
    },
    "tags": []
   },
   "source": [
    "#### Observations:\n",
    "1. Passengers with `0 or 4 or 5 or 6 Parents / Childrens seems to have higher deaths (0) than survival (1)`.\n",
    "2. Passengers with `1 or 2 or 3 Parents/Childrens seems to have high surival chances than deaths`. "
   ]
  },
  {
   "cell_type": "markdown",
   "id": "318f4500",
   "metadata": {
    "papermill": {
     "duration": 0.060056,
     "end_time": "2023-03-17T15:33:14.763918",
     "exception": false,
     "start_time": "2023-03-17T15:33:14.703862",
     "status": "completed"
    },
    "tags": []
   },
   "source": [
    "### 2.1.6 Embarked Vs Survived"
   ]
  },
  {
   "cell_type": "code",
   "execution_count": 41,
   "id": "7d29a17b",
   "metadata": {
    "execution": {
     "iopub.execute_input": "2023-03-17T15:33:14.889193Z",
     "iopub.status.busy": "2023-03-17T15:33:14.888135Z",
     "iopub.status.idle": "2023-03-17T15:33:15.586027Z",
     "shell.execute_reply": "2023-03-17T15:33:15.585433Z",
     "shell.execute_reply.started": "2023-03-17T15:17:20.945364Z"
    },
    "papermill": {
     "duration": 0.761674,
     "end_time": "2023-03-17T15:33:15.586190",
     "exception": false,
     "start_time": "2023-03-17T15:33:14.824516",
     "status": "completed"
    },
    "tags": []
   },
   "outputs": [
    {
     "data": {
      "image/png": "[encoded data removed]",
      "text/plain": [
       "<Figure size 640x480 with 1 Axes>"
      ]
     },
     "metadata": {},
     "output_type": "display_data"
    },
    {
     "data": {
      "image/png": "[encoded data removed]",
      "text/plain": [
       "<Figure size 640x480 with 1 Axes>"
      ]
     },
     "metadata": {},
     "output_type": "display_data"
    },
    {
     "data": {
      "image/png": "[encoded data removed]",
      "text/plain": [
       "<Figure size 640x480 with 1 Axes>"
      ]
     },
     "metadata": {},
     "output_type": "display_data"
    }
   ],
   "source": [
    "# Visualizing 'Survived' Vs 'Embarked'\n",
    "sns.countplot(x='Embarked', data=df, hue='Survived')\n",
    "plt.title('Embarked Vs Survival', fontsize=20)\n",
    "plt.xlabel('Embarked', fontsize=15)\n",
    "plt.ylabel('Survival', fontsize=15)\n",
    "plt.show()\n",
    "\n",
    "# Visualizing 'Gender' Vs 'Embarked'\n",
    "sns.countplot(x='Embarked', data=df, hue='Sex', palette='dark')\n",
    "plt.title('Embarked Vs Gender', fontsize=20)\n",
    "plt.xlabel('Embarked', fontsize=15)\n",
    "plt.ylabel('Gender Count', fontsize=15)\n",
    "plt.show()\n",
    "\n",
    "# Visualizing 'Pclass' Vs 'Embarked'\n",
    "sns.countplot(x='Embarked', data=df, hue='Pclass', palette='bright')\n",
    "plt.title('Embarked Vs Pclass', fontsize=20)\n",
    "plt.xlabel('Embarked', fontsize=15)\n",
    "plt.ylabel('Pclass Count', fontsize=15)\n",
    "plt.show()"
   ]
  },
  {
   "cell_type": "markdown",
   "id": "c1885518",
   "metadata": {
    "papermill": {
     "duration": 0.06559,
     "end_time": "2023-03-17T15:33:15.715871",
     "exception": false,
     "start_time": "2023-03-17T15:33:15.650281",
     "status": "completed"
    },
    "tags": []
   },
   "source": [
    "#### Observations:\n",
    "1. Passengers embraked from Southampton and Queensland will have high death counts than survival.\n",
    "2. While passengers embarked from Cherbourgh will have high survival chances.\n",
    "3. Reason behind such difference could be seen in **Embarked Vs Gender** and **Embarked Vs Pclass** visualization that\n",
    "  - Firstly, the number of male count is high among passengers embarking from Southampton and slightly high in Queensland. \n",
    "  - Secondly, passengers embarked from these two places have most passengers travelling in 3rd class.\n",
    "  - We have seen that males have low survival chances and if they having 3rd class ticket than survival chances depletes drasctically.<br>\n",
    "`Note: Above two reasons justify the higher rate of deaths in passengers embarked from Southampon and Queensland`."
   ]
  },
  {
   "cell_type": "markdown",
   "id": "dd0b972e",
   "metadata": {
    "papermill": {
     "duration": 0.062713,
     "end_time": "2023-03-17T15:33:15.841702",
     "exception": false,
     "start_time": "2023-03-17T15:33:15.778989",
     "status": "completed"
    },
    "tags": []
   },
   "source": [
    "# Step 3: Data Preparation"
   ]
  },
  {
   "cell_type": "markdown",
   "id": "79dd30e5",
   "metadata": {
    "papermill": {
     "duration": 0.062737,
     "end_time": "2023-03-17T15:33:15.967889",
     "exception": false,
     "start_time": "2023-03-17T15:33:15.905152",
     "status": "completed"
    },
    "tags": []
   },
   "source": [
    "## 3.1 Important Feature Selection"
   ]
  },
  {
   "cell_type": "code",
   "execution_count": 42,
   "id": "852ba1ce",
   "metadata": {
    "execution": {
     "iopub.execute_input": "2023-03-17T15:33:16.101847Z",
     "iopub.status.busy": "2023-03-17T15:33:16.101150Z",
     "iopub.status.idle": "2023-03-17T15:33:16.106428Z",
     "shell.execute_reply": "2023-03-17T15:33:16.106914Z",
     "shell.execute_reply.started": "2023-03-17T15:17:21.660376Z"
    },
    "papermill": {
     "duration": 0.076772,
     "end_time": "2023-03-17T15:33:16.107087",
     "exception": false,
     "start_time": "2023-03-17T15:33:16.030315",
     "status": "completed"
    },
    "tags": []
   },
   "outputs": [],
   "source": [
    "# reading data into X as unlabelled data and y as Target data only\n",
    "X = df.iloc[:,:-1]\n",
    "# drop string features\n",
    "X.drop(['Fare','Ticket','PassengerId','Cabin','Name'], axis=1, inplace=True)\n",
    "# Convert male = 0 and female = 0 in column Sex\n",
    "X['Sex'] = X['Sex'].map(dict(zip(['male','female'],[0,1])))\n",
    "# Convert C=0, Q=1 and S=2 in Embarked column\n",
    "X['Embarked'] = X['Embarked'].map(dict(zip(['C','Q','S'],[0,1,2])))\n",
    "\n",
    "y = df.iloc[:,-1]"
   ]
  },
  {
   "cell_type": "code",
   "execution_count": 43,
   "id": "7122e457",
   "metadata": {
    "execution": {
     "iopub.execute_input": "2023-03-17T15:33:16.240944Z",
     "iopub.status.busy": "2023-03-17T15:33:16.240171Z",
     "iopub.status.idle": "2023-03-17T15:33:16.483975Z",
     "shell.execute_reply": "2023-03-17T15:33:16.484487Z",
     "shell.execute_reply.started": "2023-03-17T15:17:21.674338Z"
    },
    "papermill": {
     "duration": 0.314213,
     "end_time": "2023-03-17T15:33:16.484686",
     "exception": false,
     "start_time": "2023-03-17T15:33:16.170473",
     "status": "completed"
    },
    "tags": []
   },
   "outputs": [
    {
     "name": "stdout",
     "output_type": "stream",
     "text": [
      "Sex         131.520858\n",
      "Pclass       28.973197\n",
      "Parch        10.479759\n",
      "Embarked      8.741111\n",
      "SibSp         0.362316\n",
      "Age_Bins      0.153818\n",
      "dtype: float64\n"
     ]
    },
    {
     "data": {
      "text/plain": [
       "<AxesSubplot: >"
      ]
     },
     "execution_count": 43,
     "metadata": {},
     "output_type": "execute_result"
    },
    {
     "data": {
      "image/png": "[encoded data removed]",
      "text/plain": [
       "<Figure size 640x480 with 1 Axes>"
      ]
     },
     "metadata": {},
     "output_type": "display_data"
    }
   ],
   "source": [
    "# importing \n",
    "from sklearn.feature_selection import SelectKBest, chi2\n",
    "\n",
    "bestFeatures = SelectKBest(score_func=chi2, k='all')\n",
    "fitFeatures = bestFeatures.fit(X,y)\n",
    "Chi2Score = fitFeatures.scores_\n",
    "\n",
    "# printing chi2 score beside each features\n",
    "Chi2 = pd.Series(Chi2Score,index = X.columns)\n",
    "Chi2.sort_values(ascending = False , inplace = True)\n",
    "print(Chi2)\n",
    "\n",
    "Chi2.plot.bar()"
   ]
  },
  {
   "cell_type": "markdown",
   "id": "39600949",
   "metadata": {
    "papermill": {
     "duration": 0.067319,
     "end_time": "2023-03-17T15:33:16.616490",
     "exception": false,
     "start_time": "2023-03-17T15:33:16.549171",
     "status": "completed"
    },
    "tags": []
   },
   "source": [
    "#### Observations:\n",
    "1. The above results show the most important features would be `Sex`, `Pclass`, `Parch` and `Embarked` based on Chi2 Score and its visualization.\n",
    "2. But as the count of the variables are low we won't drop any feature with low Chi2 Score for generating better result."
   ]
  },
  {
   "cell_type": "markdown",
   "id": "3e8f9c37",
   "metadata": {
    "papermill": {
     "duration": 0.0638,
     "end_time": "2023-03-17T15:33:16.744425",
     "exception": false,
     "start_time": "2023-03-17T15:33:16.680625",
     "status": "completed"
    },
    "tags": []
   },
   "source": [
    "## 3.2 Dropping Irrelavant variables"
   ]
  },
  {
   "cell_type": "markdown",
   "id": "a0d0a9d9",
   "metadata": {
    "papermill": {
     "duration": 0.072416,
     "end_time": "2023-03-17T15:33:16.881692",
     "exception": false,
     "start_time": "2023-03-17T15:33:16.809276",
     "status": "completed"
    },
    "tags": []
   },
   "source": [
    "#### `Fare`, `Ticket`, `PassengerId`, `Cabin` and `Name` columns make no impact and seems to be irrelevant for prediction. Hence, we can drop them."
   ]
  },
  {
   "cell_type": "code",
   "execution_count": 44,
   "id": "77408b83",
   "metadata": {
    "execution": {
     "iopub.execute_input": "2023-03-17T15:33:17.041456Z",
     "iopub.status.busy": "2023-03-17T15:33:17.030930Z",
     "iopub.status.idle": "2023-03-17T15:33:17.045804Z",
     "shell.execute_reply": "2023-03-17T15:33:17.046355Z",
     "shell.execute_reply.started": "2023-03-17T15:17:21.933287Z"
    },
    "papermill": {
     "duration": 0.082362,
     "end_time": "2023-03-17T15:33:17.046559",
     "exception": false,
     "start_time": "2023-03-17T15:33:16.964197",
     "status": "completed"
    },
    "tags": []
   },
   "outputs": [
    {
     "data": {
      "text/html": [
       "<div>\n",
       "<style scoped>\n",
       "    .dataframe tbody tr th:only-of-type {\n",
       "        vertical-align: middle;\n",
       "    }\n",
       "\n",
       "    .dataframe tbody tr th {\n",
       "        vertical-align: top;\n",
       "    }\n",
       "\n",
       "    .dataframe thead th {\n",
       "        text-align: right;\n",
       "    }\n",
       "</style>\n",
       "<table border=\"1\" class=\"dataframe\">\n",
       "  <thead>\n",
       "    <tr style=\"text-align: right;\">\n",
       "      <th></th>\n",
       "      <th>Pclass</th>\n",
       "      <th>Sex</th>\n",
       "      <th>SibSp</th>\n",
       "      <th>Parch</th>\n",
       "      <th>Embarked</th>\n",
       "      <th>Age_Bins</th>\n",
       "      <th>Survived</th>\n",
       "    </tr>\n",
       "  </thead>\n",
       "  <tbody>\n",
       "    <tr>\n",
       "      <th>0</th>\n",
       "      <td>3</td>\n",
       "      <td>male</td>\n",
       "      <td>1</td>\n",
       "      <td>0</td>\n",
       "      <td>S</td>\n",
       "      <td>1</td>\n",
       "      <td>0</td>\n",
       "    </tr>\n",
       "    <tr>\n",
       "      <th>1</th>\n",
       "      <td>1</td>\n",
       "      <td>female</td>\n",
       "      <td>1</td>\n",
       "      <td>0</td>\n",
       "      <td>C</td>\n",
       "      <td>1</td>\n",
       "      <td>1</td>\n",
       "    </tr>\n",
       "    <tr>\n",
       "      <th>2</th>\n",
       "      <td>3</td>\n",
       "      <td>female</td>\n",
       "      <td>0</td>\n",
       "      <td>0</td>\n",
       "      <td>S</td>\n",
       "      <td>1</td>\n",
       "      <td>1</td>\n",
       "    </tr>\n",
       "    <tr>\n",
       "      <th>3</th>\n",
       "      <td>1</td>\n",
       "      <td>female</td>\n",
       "      <td>1</td>\n",
       "      <td>0</td>\n",
       "      <td>S</td>\n",
       "      <td>1</td>\n",
       "      <td>1</td>\n",
       "    </tr>\n",
       "    <tr>\n",
       "      <th>4</th>\n",
       "      <td>3</td>\n",
       "      <td>male</td>\n",
       "      <td>0</td>\n",
       "      <td>0</td>\n",
       "      <td>S</td>\n",
       "      <td>1</td>\n",
       "      <td>0</td>\n",
       "    </tr>\n",
       "  </tbody>\n",
       "</table>\n",
       "</div>"
      ],
      "text/plain": [
       "   Pclass     Sex  SibSp  Parch Embarked  Age_Bins  Survived\n",
       "0       3    male      1      0        S         1         0\n",
       "1       1  female      1      0        C         1         1\n",
       "2       3  female      0      0        S         1         1\n",
       "3       1  female      1      0        S         1         1\n",
       "4       3    male      0      0        S         1         0"
      ]
     },
     "execution_count": 44,
     "metadata": {},
     "output_type": "execute_result"
    }
   ],
   "source": [
    "# Drop Fare, Ticket, PassengerId, Cabin and Name columns\n",
    "df.drop(['Fare','Ticket','PassengerId','Cabin','Name'], axis=1, inplace=True)\n",
    "\n",
    "# conforming changes\n",
    "df.head()"
   ]
  },
  {
   "cell_type": "markdown",
   "id": "a4f0d022",
   "metadata": {
    "papermill": {
     "duration": 0.063518,
     "end_time": "2023-03-17T15:33:17.175158",
     "exception": false,
     "start_time": "2023-03-17T15:33:17.111640",
     "status": "completed"
    },
    "tags": []
   },
   "source": [
    "## 3.3 Convert Categorical variable to Ordinal variables"
   ]
  },
  {
   "cell_type": "markdown",
   "id": "abbfdeb5",
   "metadata": {
    "papermill": {
     "duration": 0.064356,
     "end_time": "2023-03-17T15:33:17.305575",
     "exception": false,
     "start_time": "2023-03-17T15:33:17.241219",
     "status": "completed"
    },
    "tags": []
   },
   "source": [
    "#### To bring more understanding let's convert columns like `Sex` and `Embarked` to ordinal category 0,1,2,etc."
   ]
  },
  {
   "cell_type": "code",
   "execution_count": 45,
   "id": "29fcd3aa",
   "metadata": {
    "execution": {
     "iopub.execute_input": "2023-03-17T15:33:17.438417Z",
     "iopub.status.busy": "2023-03-17T15:33:17.437764Z",
     "iopub.status.idle": "2023-03-17T15:33:17.452326Z",
     "shell.execute_reply": "2023-03-17T15:33:17.451815Z",
     "shell.execute_reply.started": "2023-03-17T15:17:21.949529Z"
    },
    "papermill": {
     "duration": 0.08205,
     "end_time": "2023-03-17T15:33:17.452474",
     "exception": false,
     "start_time": "2023-03-17T15:33:17.370424",
     "status": "completed"
    },
    "tags": []
   },
   "outputs": [
    {
     "data": {
      "text/html": [
       "<div>\n",
       "<style scoped>\n",
       "    .dataframe tbody tr th:only-of-type {\n",
       "        vertical-align: middle;\n",
       "    }\n",
       "\n",
       "    .dataframe tbody tr th {\n",
       "        vertical-align: top;\n",
       "    }\n",
       "\n",
       "    .dataframe thead th {\n",
       "        text-align: right;\n",
       "    }\n",
       "</style>\n",
       "<table border=\"1\" class=\"dataframe\">\n",
       "  <thead>\n",
       "    <tr style=\"text-align: right;\">\n",
       "      <th></th>\n",
       "      <th>Pclass</th>\n",
       "      <th>Sex</th>\n",
       "      <th>SibSp</th>\n",
       "      <th>Parch</th>\n",
       "      <th>Embarked</th>\n",
       "      <th>Age_Bins</th>\n",
       "      <th>Survived</th>\n",
       "    </tr>\n",
       "  </thead>\n",
       "  <tbody>\n",
       "    <tr>\n",
       "      <th>0</th>\n",
       "      <td>3</td>\n",
       "      <td>0</td>\n",
       "      <td>1</td>\n",
       "      <td>0</td>\n",
       "      <td>2</td>\n",
       "      <td>1</td>\n",
       "      <td>0</td>\n",
       "    </tr>\n",
       "    <tr>\n",
       "      <th>1</th>\n",
       "      <td>1</td>\n",
       "      <td>1</td>\n",
       "      <td>1</td>\n",
       "      <td>0</td>\n",
       "      <td>0</td>\n",
       "      <td>1</td>\n",
       "      <td>1</td>\n",
       "    </tr>\n",
       "    <tr>\n",
       "      <th>2</th>\n",
       "      <td>3</td>\n",
       "      <td>1</td>\n",
       "      <td>0</td>\n",
       "      <td>0</td>\n",
       "      <td>2</td>\n",
       "      <td>1</td>\n",
       "      <td>1</td>\n",
       "    </tr>\n",
       "    <tr>\n",
       "      <th>3</th>\n",
       "      <td>1</td>\n",
       "      <td>1</td>\n",
       "      <td>1</td>\n",
       "      <td>0</td>\n",
       "      <td>2</td>\n",
       "      <td>1</td>\n",
       "      <td>1</td>\n",
       "    </tr>\n",
       "    <tr>\n",
       "      <th>4</th>\n",
       "      <td>3</td>\n",
       "      <td>0</td>\n",
       "      <td>0</td>\n",
       "      <td>0</td>\n",
       "      <td>2</td>\n",
       "      <td>1</td>\n",
       "      <td>0</td>\n",
       "    </tr>\n",
       "  </tbody>\n",
       "</table>\n",
       "</div>"
      ],
      "text/plain": [
       "   Pclass  Sex  SibSp  Parch  Embarked  Age_Bins  Survived\n",
       "0       3    0      1      0         2         1         0\n",
       "1       1    1      1      0         0         1         1\n",
       "2       3    1      0      0         2         1         1\n",
       "3       1    1      1      0         2         1         1\n",
       "4       3    0      0      0         2         1         0"
      ]
     },
     "execution_count": 45,
     "metadata": {},
     "output_type": "execute_result"
    }
   ],
   "source": [
    "# Convert male = 0 and female = 0 in column Sex\n",
    "df['Sex'] = df['Sex'].map(dict(zip(['male','female'],[0,1])))\n",
    "\n",
    "# Convert C=0, Q=1 and S=2 in Embarked column\n",
    "df['Embarked'] = df['Embarked'].map(dict(zip(['C','Q','S'],[0,1,2])))\n",
    "\n",
    "# conforming changes in data\n",
    "df.head()"
   ]
  },
  {
   "cell_type": "markdown",
   "id": "357aea0b",
   "metadata": {
    "papermill": {
     "duration": 0.06442,
     "end_time": "2023-03-17T15:33:17.582304",
     "exception": false,
     "start_time": "2023-03-17T15:33:17.517884",
     "status": "completed"
    },
    "tags": []
   },
   "source": [
    "## 3.4 Visualize Correlation between all variables"
   ]
  },
  {
   "cell_type": "code",
   "execution_count": 46,
   "id": "087ac96c",
   "metadata": {
    "execution": {
     "iopub.execute_input": "2023-03-17T15:33:17.716095Z",
     "iopub.status.busy": "2023-03-17T15:33:17.715136Z",
     "iopub.status.idle": "2023-03-17T15:33:17.725128Z",
     "shell.execute_reply": "2023-03-17T15:33:17.725646Z",
     "shell.execute_reply.started": "2023-03-17T15:17:21.972164Z"
    },
    "papermill": {
     "duration": 0.078815,
     "end_time": "2023-03-17T15:33:17.725822",
     "exception": false,
     "start_time": "2023-03-17T15:33:17.647007",
     "status": "completed"
    },
    "tags": []
   },
   "outputs": [
    {
     "data": {
      "text/html": [
       "<div>\n",
       "<style scoped>\n",
       "    .dataframe tbody tr th:only-of-type {\n",
       "        vertical-align: middle;\n",
       "    }\n",
       "\n",
       "    .dataframe tbody tr th {\n",
       "        vertical-align: top;\n",
       "    }\n",
       "\n",
       "    .dataframe thead th {\n",
       "        text-align: right;\n",
       "    }\n",
       "</style>\n",
       "<table border=\"1\" class=\"dataframe\">\n",
       "  <thead>\n",
       "    <tr style=\"text-align: right;\">\n",
       "      <th></th>\n",
       "      <th>Pclass</th>\n",
       "      <th>Sex</th>\n",
       "      <th>SibSp</th>\n",
       "      <th>Parch</th>\n",
       "      <th>Embarked</th>\n",
       "      <th>Age_Bins</th>\n",
       "      <th>Survived</th>\n",
       "    </tr>\n",
       "  </thead>\n",
       "  <tbody>\n",
       "    <tr>\n",
       "      <th>0</th>\n",
       "      <td>3</td>\n",
       "      <td>0</td>\n",
       "      <td>1</td>\n",
       "      <td>0</td>\n",
       "      <td>2</td>\n",
       "      <td>1</td>\n",
       "      <td>0</td>\n",
       "    </tr>\n",
       "    <tr>\n",
       "      <th>1</th>\n",
       "      <td>1</td>\n",
       "      <td>1</td>\n",
       "      <td>1</td>\n",
       "      <td>0</td>\n",
       "      <td>0</td>\n",
       "      <td>1</td>\n",
       "      <td>1</td>\n",
       "    </tr>\n",
       "    <tr>\n",
       "      <th>2</th>\n",
       "      <td>3</td>\n",
       "      <td>1</td>\n",
       "      <td>0</td>\n",
       "      <td>0</td>\n",
       "      <td>2</td>\n",
       "      <td>1</td>\n",
       "      <td>1</td>\n",
       "    </tr>\n",
       "    <tr>\n",
       "      <th>3</th>\n",
       "      <td>1</td>\n",
       "      <td>1</td>\n",
       "      <td>1</td>\n",
       "      <td>0</td>\n",
       "      <td>2</td>\n",
       "      <td>1</td>\n",
       "      <td>1</td>\n",
       "    </tr>\n",
       "    <tr>\n",
       "      <th>4</th>\n",
       "      <td>3</td>\n",
       "      <td>0</td>\n",
       "      <td>0</td>\n",
       "      <td>0</td>\n",
       "      <td>2</td>\n",
       "      <td>1</td>\n",
       "      <td>0</td>\n",
       "    </tr>\n",
       "  </tbody>\n",
       "</table>\n",
       "</div>"
      ],
      "text/plain": [
       "   Pclass  Sex  SibSp  Parch  Embarked  Age_Bins  Survived\n",
       "0       3    0      1      0         2         1         0\n",
       "1       1    1      1      0         0         1         1\n",
       "2       3    1      0      0         2         1         1\n",
       "3       1    1      1      0         2         1         1\n",
       "4       3    0      0      0         2         1         0"
      ]
     },
     "execution_count": 46,
     "metadata": {},
     "output_type": "execute_result"
    }
   ],
   "source": [
    "# Summary\n",
    "df.head()"
   ]
  },
  {
   "cell_type": "code",
   "execution_count": 47,
   "id": "3dc5bd51",
   "metadata": {
    "execution": {
     "iopub.execute_input": "2023-03-17T15:33:17.864122Z",
     "iopub.status.busy": "2023-03-17T15:33:17.863450Z",
     "iopub.status.idle": "2023-03-17T15:33:18.233508Z",
     "shell.execute_reply": "2023-03-17T15:33:18.234076Z",
     "shell.execute_reply.started": "2023-03-17T15:17:21.984746Z"
    },
    "papermill": {
     "duration": 0.443137,
     "end_time": "2023-03-17T15:33:18.234251",
     "exception": false,
     "start_time": "2023-03-17T15:33:17.791114",
     "status": "completed"
    },
    "tags": []
   },
   "outputs": [
    {
     "data": {
      "image/png": "[encoded data removed]",
      "text/plain": [
       "<Figure size 1200x800 with 2 Axes>"
      ]
     },
     "metadata": {},
     "output_type": "display_data"
    }
   ],
   "source": [
    "# Visualizing correlation of all variables with traget variable\n",
    "plt.figure(figsize=(12,8))\n",
    "corr= df.corr()\n",
    "matrix = np.triu(corr)\n",
    "sns.heatmap(corr.round(2), annot=True, cmap='YlGnBu', center=0, linewidth=.5, mask=matrix)\n",
    "plt.show()"
   ]
  },
  {
   "cell_type": "markdown",
   "id": "87fe1f1e",
   "metadata": {
    "papermill": {
     "duration": 0.067074,
     "end_time": "2023-03-17T15:33:18.368313",
     "exception": false,
     "start_time": "2023-03-17T15:33:18.301239",
     "status": "completed"
    },
    "tags": []
   },
   "source": [
    "#### Observations:\n",
    "1. `Sex` variables seems to be positively correlated with target variable `Survived` and seems to be highly correlated with target variable.\n",
    "2. `Pclass` variables seems to be negatively correlated with target variable `Survived` and seems to be least correlated with target variable.\n",
    "3. Remaining variables `Parch`,`SibSp`,`Age_Bins` and `Embarked` also seems to be correlated with good numbers. "
   ]
  },
  {
   "cell_type": "markdown",
   "id": "62cca226",
   "metadata": {
    "papermill": {
     "duration": 0.066335,
     "end_time": "2023-03-17T15:33:18.501609",
     "exception": false,
     "start_time": "2023-03-17T15:33:18.435274",
     "status": "completed"
    },
    "tags": []
   },
   "source": [
    "# Conclusion based on EDA\n",
    "\n",
    "---\n",
    "Following variables could be considered as importnat variables for model building and these variables are perfectlt correlated to target variable **Survived**. <br>\n",
    "- Pcalss, \n",
    "- Sex, \n",
    "- SibSp, \n",
    "- Parch,\n",
    "- Embarked,\n",
    "- Age_Bins.\n",
    "---"
   ]
  }
 ],
 "metadata": {
  "kernelspec": {
   "display_name": "Python 3 (ipykernel)",
   "language": "python",
   "name": "python3"
  },
  "language_info": {
   "codemirror_mode": {
    "name": "ipython",
    "version": 3
   },
   "file_extension": ".py",
   "mimetype": "text/x-python",
   "name": "python",
   "nbconvert_exporter": "python",
   "pygments_lexer": "ipython3",
   "version": "3.11.2"
  },
  "papermill": {
   "default_parameters": {},
   "duration": 27.677643,
   "end_time": "2023-03-17T15:33:23.228820",
   "environment_variables": {},
   "exception": null,
   "input_path": "__notebook__.ipynb",
   "output_path": "__notebook__.ipynb",
   "parameters": {},
   "start_time": "2023-03-17T15:32:55.551177",
   "version": "2.3.3"
  }
 },
 "nbformat": 4,
 "nbformat_minor": 5
}
